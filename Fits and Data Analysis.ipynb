{
 "cells": [
  {
   "cell_type": "markdown",
   "metadata": {},
   "source": [
    "# Fits and Data Analysis\n",
    "---\n",
    "* Analysing and fitting Data (usage of scipy)\n",
    "* Linear Regression using Least-Squares\n",
    "* Visualisation of fits"
   ]
  },
  {
   "cell_type": "markdown",
   "metadata": {},
   "source": [
    "#### Create a function for fast plotting to rapidly check/visualize some data"
   ]
  },
  {
   "cell_type": "code",
   "execution_count": 260,
   "metadata": {},
   "outputs": [],
   "source": [
    "import matplotlib.pyplot as plt\n",
    "\n",
    "# needed only in jupyter and this session ---\n",
    "# please ignore the following 3 lines\n",
    "%matplotlib inline\n",
    "import warnings\n",
    "warnings.filterwarnings('ignore')\n",
    "\n",
    "plt.rc('text', usetex=True)\n",
    "plt.rc('font', **{'family': 'DejaVu Sans','size': 20})\n",
    "\n",
    "def fast_plot(x, y, style=\".\", xlabel=\"predictor $x$\", ylabel=\"response $y$\"):\n",
    "    \"\"\"\n",
    "    Function for plotting y vs x as points\n",
    "    Args:\n",
    "    - x, y as lists, numpy array,...\n",
    "    - optional arguments are the axis labels\n",
    "    Returns:\n",
    "    - Plot of y vs x\n",
    "    \"\"\"\n",
    "    \n",
    "    fig, ax = plt.subplots()\n",
    "    ax.plot(x, y, style)\n",
    "    ax.set_xlabel(xlabel)\n",
    "    ax.set_ylabel(ylabel)\n",
    "    fig.show()"
   ]
  },
  {
   "cell_type": "markdown",
   "metadata": {},
   "source": [
    "## Basics of fitting\n",
    "\n",
    "Lets generate a linear relationship with some noise and fit a function to it"
   ]
  },
  {
   "cell_type": "code",
   "execution_count": 264,
   "metadata": {},
   "outputs": [],
   "source": [
    "import numpy as np\n",
    "\n",
    "# create a random linear dataset\n",
    "N = 100\n",
    "x = np.linspace(0, 1, N)\n",
    "randnr = np.random.rand(N)\n",
    "y = - x + 2.0 + (randnr*0.5)"
   ]
  },
  {
   "cell_type": "markdown",
   "metadata": {},
   "source": [
    "Now lets check that the created linear relationship has indeed a decaying behaviour"
   ]
  },
  {
   "cell_type": "code",
   "execution_count": 268,
   "metadata": {},
   "outputs": [
    {
     "data": {
      "image/png": "[encoded data removed]",
      "text/plain": [
       "<Figure size 432x288 with 1 Axes>"
      ]
     },
     "metadata": {
      "needs_background": "light"
     },
     "output_type": "display_data"
    }
   ],
   "source": [
    "fast_plot(x, y, \"o\")"
   ]
  },
  {
   "cell_type": "markdown",
   "metadata": {},
   "source": [
    "### Fitting the data\n",
    "\n",
    "Here we generated both the x and the y values. Usually when fitting the latter represent the dependent variable which we would like to fit.\n",
    "\n",
    "The first step is to understand what function we would like to fit to y. In this case it a linear slope. We thus create such a function with some unknown coefficients $a$ and $c$: $f(x) = a x + c$"
   ]
  },
  {
   "cell_type": "code",
   "execution_count": 275,
   "metadata": {},
   "outputs": [],
   "source": [
    "def fitting_lin_slope(x, a, c):\n",
    "    return a * x + c"
   ]
  },
  {
   "cell_type": "markdown",
   "metadata": {},
   "source": [
    "Now we load an additional library that is built upon `numpy` and is specifically designed for scientific computing. We don't load the entire library, but only the fitting function we need"
   ]
  },
  {
   "cell_type": "code",
   "execution_count": 271,
   "metadata": {},
   "outputs": [],
   "source": [
    "from scipy.optimize import curve_fit"
   ]
  },
  {
   "cell_type": "markdown",
   "metadata": {},
   "source": [
    "`curve_fit()` is a function that, as the [documentation](https://docs.scipy.org/doc/scipy/reference/generated/scipy.optimize.curve_fit.html) tells us, uses \"non-linear least squares to fit a function, f, to data\".\n",
    "\n",
    "In other words: we have to give `curve_fit` a function (which we assume will fit our data), the independet values of x and the dependent values of y.\n",
    "\n",
    "The output will be twofold: \n",
    "* on one side we have an array with the optimal values for the coefficients of our function (in this case $a$ and $c$)\n",
    "* on the other we get a matrix with the covariance values of the optimized coefficients, from which we can the compute the standard deviation taking the square root of the diagonal elements.\n"
   ]
  },
  {
   "cell_type": "code",
   "execution_count": 295,
   "metadata": {},
   "outputs": [
    {
     "name": "stdout",
     "output_type": "stream",
     "text": [
      "this is a=[2, 3, 4] and this is b=55.668384\n",
      "this is a=[2, 3, 4] and this is b=55.7\n",
      "[0.04707083 0.0272449 ]\n"
     ]
    }
   ],
   "source": [
    "a, b = [2,3,4], 55.668384\n",
    "print(\"this is a=\" + str(a) + \" and this is b=\" + str(b))\n",
    "print(\"this is a={} and this is b={:1.3}\".format(a,b))\n",
    "\n",
    "print(np.sqrt(np.diag(cov_coeff)))"
   ]
  },
  {
   "cell_type": "code",
   "execution_count": 301,
   "metadata": {},
   "outputs": [
    {
     "name": "stdout",
     "output_type": "stream",
     "text": [
      "optimal a = -0.9841496692195527\n",
      "optimal c = 2.2462395245484665\n",
      "\n",
      "std of a = 0.04707083090073298\n",
      "std of c = 0.027244897604306817\n"
     ]
    }
   ],
   "source": [
    "# optimize function coefficients | test bounds=([-1,0], [0,2])\n",
    "opt_vals, cov_coeff = curve_fit(fitting_lin_slope, x, y, bounds=([-np.inf,0], [0,2.5]))\n",
    "\n",
    "print(\"optimal a = {}\\noptimal c = {}\\n\\nstd of a = {}\\nstd of c = {}\".\n",
    "      format(opt_vals[0], opt_vals[1], *np.sqrt(np.diag(cov_coeff))))"
   ]
  },
  {
   "cell_type": "markdown",
   "metadata": {},
   "source": [
    "as we can see the optimal $a$ is indeed close to $-1$ and the optimal $c$ is close to $2.25$ as we defined them in our generating relationship\n",
    "\n",
    "__note__: for a list `l = [0,1,2,3,4, ... , n]` writing `*l` is equivalent to writing `l[0], l[1], l[2], ... ,l[n]`. We are going to use this notation more often in the following\n",
    "\n",
    "---\n",
    "Now lets visualize the data with its fit. To do so it is now very convenient that we defined the fitting function, since we can now use this to generate the fitting slope"
   ]
  },
  {
   "cell_type": "code",
   "execution_count": 302,
   "metadata": {},
   "outputs": [
    {
     "data": {
      "image/png": "[encoded data removed]",
      "text/plain": [
       "<Figure size 576x360 with 1 Axes>"
      ]
     },
     "metadata": {
      "needs_background": "light"
     },
     "output_type": "display_data"
    }
   ],
   "source": [
    "fig, ax = plt.subplots(figsize=(8,5), tight_layout = True)\n",
    "\n",
    "text_label_fit = \"fit a = {:.3} c = {:.3}\".format(*opt_vals)\n",
    "\n",
    "fit_values = fitting_lin_slope(x, *opt_vals)\n",
    "\n",
    "ax.plot(x, y, \".\", label=\"data\")\n",
    "ax.plot(x, fit_values, \"r-\", label = text_label_fit)\n",
    "\n",
    "ax.legend(fontsize=18)\n",
    "\n",
    "ax.set_xlabel(\"x values\")\n",
    "ax.set_ylabel(\"y values\")\n",
    "\n",
    "ax.set_title(\"data and its fit\")\n",
    "\n",
    "fig.show()"
   ]
  },
  {
   "cell_type": "markdown",
   "metadata": {},
   "source": [
    "## Gaussian fit to distribution\n",
    "\n",
    "---\n",
    "\n",
    "Now lets see another very common fit: the Gaussian fit.\n",
    "\n",
    "For every distribution you find, you might want to fit a Gaussian distribution to some data\n",
    "\n",
    "From the a [machine learning repository](https://archive.ics.uci.edu/ml/index.php) we can take the data about forest fires. (as you see the `read_csv()` method of pandas is able to get data als from online links)"
   ]
  },
  {
   "cell_type": "code",
   "execution_count": 303,
   "metadata": {},
   "outputs": [
    {
     "data": {
      "text/html": [
       "<div>\n",
       "<style scoped>\n",
       "    .dataframe tbody tr th:only-of-type {\n",
       "        vertical-align: middle;\n",
       "    }\n",
       "\n",
       "    .dataframe tbody tr th {\n",
       "        vertical-align: top;\n",
       "    }\n",
       "\n",
       "    .dataframe thead th {\n",
       "        text-align: right;\n",
       "    }\n",
       "</style>\n",
       "<table border=\"1\" class=\"dataframe\">\n",
       "  <thead>\n",
       "    <tr style=\"text-align: right;\">\n",
       "      <th></th>\n",
       "      <th>Y</th>\n",
       "      <th>month</th>\n",
       "      <th>day</th>\n",
       "      <th>FFMC</th>\n",
       "      <th>DMC</th>\n",
       "      <th>DC</th>\n",
       "      <th>ISI</th>\n",
       "      <th>temp</th>\n",
       "      <th>RH</th>\n",
       "      <th>wind</th>\n",
       "      <th>rain</th>\n",
       "      <th>area</th>\n",
       "    </tr>\n",
       "    <tr>\n",
       "      <th>X</th>\n",
       "      <th></th>\n",
       "      <th></th>\n",
       "      <th></th>\n",
       "      <th></th>\n",
       "      <th></th>\n",
       "      <th></th>\n",
       "      <th></th>\n",
       "      <th></th>\n",
       "      <th></th>\n",
       "      <th></th>\n",
       "      <th></th>\n",
       "      <th></th>\n",
       "    </tr>\n",
       "  </thead>\n",
       "  <tbody>\n",
       "    <tr>\n",
       "      <th>7</th>\n",
       "      <td>5</td>\n",
       "      <td>mar</td>\n",
       "      <td>fri</td>\n",
       "      <td>86.2</td>\n",
       "      <td>26.2</td>\n",
       "      <td>94.3</td>\n",
       "      <td>5.1</td>\n",
       "      <td>8.2</td>\n",
       "      <td>51</td>\n",
       "      <td>6.7</td>\n",
       "      <td>0.0</td>\n",
       "      <td>0.00</td>\n",
       "    </tr>\n",
       "    <tr>\n",
       "      <th>7</th>\n",
       "      <td>4</td>\n",
       "      <td>oct</td>\n",
       "      <td>tue</td>\n",
       "      <td>90.6</td>\n",
       "      <td>35.4</td>\n",
       "      <td>669.1</td>\n",
       "      <td>6.7</td>\n",
       "      <td>18.0</td>\n",
       "      <td>33</td>\n",
       "      <td>0.9</td>\n",
       "      <td>0.0</td>\n",
       "      <td>0.00</td>\n",
       "    </tr>\n",
       "    <tr>\n",
       "      <th>7</th>\n",
       "      <td>4</td>\n",
       "      <td>oct</td>\n",
       "      <td>sat</td>\n",
       "      <td>90.6</td>\n",
       "      <td>43.7</td>\n",
       "      <td>686.9</td>\n",
       "      <td>6.7</td>\n",
       "      <td>14.6</td>\n",
       "      <td>33</td>\n",
       "      <td>1.3</td>\n",
       "      <td>0.0</td>\n",
       "      <td>0.00</td>\n",
       "    </tr>\n",
       "    <tr>\n",
       "      <th>8</th>\n",
       "      <td>6</td>\n",
       "      <td>mar</td>\n",
       "      <td>fri</td>\n",
       "      <td>91.7</td>\n",
       "      <td>33.3</td>\n",
       "      <td>77.5</td>\n",
       "      <td>9.0</td>\n",
       "      <td>8.3</td>\n",
       "      <td>97</td>\n",
       "      <td>4.0</td>\n",
       "      <td>0.2</td>\n",
       "      <td>0.00</td>\n",
       "    </tr>\n",
       "    <tr>\n",
       "      <th>8</th>\n",
       "      <td>6</td>\n",
       "      <td>mar</td>\n",
       "      <td>sun</td>\n",
       "      <td>89.3</td>\n",
       "      <td>51.3</td>\n",
       "      <td>102.2</td>\n",
       "      <td>9.6</td>\n",
       "      <td>11.4</td>\n",
       "      <td>99</td>\n",
       "      <td>1.8</td>\n",
       "      <td>0.0</td>\n",
       "      <td>0.00</td>\n",
       "    </tr>\n",
       "    <tr>\n",
       "      <th>...</th>\n",
       "      <td>...</td>\n",
       "      <td>...</td>\n",
       "      <td>...</td>\n",
       "      <td>...</td>\n",
       "      <td>...</td>\n",
       "      <td>...</td>\n",
       "      <td>...</td>\n",
       "      <td>...</td>\n",
       "      <td>...</td>\n",
       "      <td>...</td>\n",
       "      <td>...</td>\n",
       "      <td>...</td>\n",
       "    </tr>\n",
       "    <tr>\n",
       "      <th>4</th>\n",
       "      <td>3</td>\n",
       "      <td>aug</td>\n",
       "      <td>sun</td>\n",
       "      <td>81.6</td>\n",
       "      <td>56.7</td>\n",
       "      <td>665.6</td>\n",
       "      <td>1.9</td>\n",
       "      <td>27.8</td>\n",
       "      <td>32</td>\n",
       "      <td>2.7</td>\n",
       "      <td>0.0</td>\n",
       "      <td>6.44</td>\n",
       "    </tr>\n",
       "    <tr>\n",
       "      <th>2</th>\n",
       "      <td>4</td>\n",
       "      <td>aug</td>\n",
       "      <td>sun</td>\n",
       "      <td>81.6</td>\n",
       "      <td>56.7</td>\n",
       "      <td>665.6</td>\n",
       "      <td>1.9</td>\n",
       "      <td>21.9</td>\n",
       "      <td>71</td>\n",
       "      <td>5.8</td>\n",
       "      <td>0.0</td>\n",
       "      <td>54.29</td>\n",
       "    </tr>\n",
       "    <tr>\n",
       "      <th>7</th>\n",
       "      <td>4</td>\n",
       "      <td>aug</td>\n",
       "      <td>sun</td>\n",
       "      <td>81.6</td>\n",
       "      <td>56.7</td>\n",
       "      <td>665.6</td>\n",
       "      <td>1.9</td>\n",
       "      <td>21.2</td>\n",
       "      <td>70</td>\n",
       "      <td>6.7</td>\n",
       "      <td>0.0</td>\n",
       "      <td>11.16</td>\n",
       "    </tr>\n",
       "    <tr>\n",
       "      <th>1</th>\n",
       "      <td>4</td>\n",
       "      <td>aug</td>\n",
       "      <td>sat</td>\n",
       "      <td>94.4</td>\n",
       "      <td>146.0</td>\n",
       "      <td>614.7</td>\n",
       "      <td>11.3</td>\n",
       "      <td>25.6</td>\n",
       "      <td>42</td>\n",
       "      <td>4.0</td>\n",
       "      <td>0.0</td>\n",
       "      <td>0.00</td>\n",
       "    </tr>\n",
       "    <tr>\n",
       "      <th>6</th>\n",
       "      <td>3</td>\n",
       "      <td>nov</td>\n",
       "      <td>tue</td>\n",
       "      <td>79.5</td>\n",
       "      <td>3.0</td>\n",
       "      <td>106.7</td>\n",
       "      <td>1.1</td>\n",
       "      <td>11.8</td>\n",
       "      <td>31</td>\n",
       "      <td>4.5</td>\n",
       "      <td>0.0</td>\n",
       "      <td>0.00</td>\n",
       "    </tr>\n",
       "  </tbody>\n",
       "</table>\n",
       "<p>517 rows × 12 columns</p>\n",
       "</div>"
      ],
      "text/plain": [
       "    Y month  day  FFMC    DMC     DC   ISI  temp  RH  wind  rain   area\n",
       "X                                                                      \n",
       "7   5   mar  fri  86.2   26.2   94.3   5.1   8.2  51   6.7   0.0   0.00\n",
       "7   4   oct  tue  90.6   35.4  669.1   6.7  18.0  33   0.9   0.0   0.00\n",
       "7   4   oct  sat  90.6   43.7  686.9   6.7  14.6  33   1.3   0.0   0.00\n",
       "8   6   mar  fri  91.7   33.3   77.5   9.0   8.3  97   4.0   0.2   0.00\n",
       "8   6   mar  sun  89.3   51.3  102.2   9.6  11.4  99   1.8   0.0   0.00\n",
       ".. ..   ...  ...   ...    ...    ...   ...   ...  ..   ...   ...    ...\n",
       "4   3   aug  sun  81.6   56.7  665.6   1.9  27.8  32   2.7   0.0   6.44\n",
       "2   4   aug  sun  81.6   56.7  665.6   1.9  21.9  71   5.8   0.0  54.29\n",
       "7   4   aug  sun  81.6   56.7  665.6   1.9  21.2  70   6.7   0.0  11.16\n",
       "1   4   aug  sat  94.4  146.0  614.7  11.3  25.6  42   4.0   0.0   0.00\n",
       "6   3   nov  tue  79.5    3.0  106.7   1.1  11.8  31   4.5   0.0   0.00\n",
       "\n",
       "[517 rows x 12 columns]"
      ]
     },
     "execution_count": 303,
     "metadata": {},
     "output_type": "execute_result"
    }
   ],
   "source": [
    "import pandas as pd\n",
    "\n",
    "fires = pd.read_csv('https://archive.ics.uci.edu/ml/machine-learning-databases/forest-fires/forestfires.csv', \n",
    "                   index_col=0)\n",
    "\n",
    "fires"
   ]
  },
  {
   "cell_type": "markdown",
   "metadata": {},
   "source": [
    "This dataframe now contains a lot of interesting data (and a little bit more than before with the populations and the brain sizes) to be analised.\n",
    "\n",
    "As we will see, the temperature is has a distribution of the data that mostly resembles a Gaussian, we therefore want to fit this distribution."
   ]
  },
  {
   "cell_type": "code",
   "execution_count": 305,
   "metadata": {},
   "outputs": [
    {
     "data": {
      "image/png": "[encoded data removed]",
      "text/plain": [
       "<Figure size 432x288 with 1 Axes>"
      ]
     },
     "metadata": {
      "needs_background": "light"
     },
     "output_type": "display_data"
    }
   ],
   "source": [
    "# save temperature data to one array\n",
    "temps = fires.temp\n",
    "\n",
    "binnr = 25\n",
    "\n",
    "# check with a plot the histogram and save the histogram values\n",
    "fig, ax = plt.subplots(1,1, tight_layout = True)\n",
    "\n",
    "vals, binedge, handle = ax.hist(temps, bins=binnr, density=True)\n",
    "\n",
    "# to overcome wrong positioning of the bins, compute the width of one bin and subtract half of it it to the edges\n",
    "bin_width = binedge[1] - binedge[0]\n",
    "\n",
    "# \n",
    "bincenter = binedge[1:]- bin_width/2\n",
    "\n",
    "# plot maxima of the values\n",
    "ax.plot(bincenter, vals, \"rx\")\n",
    "\n",
    "fig.show()"
   ]
  },
  {
   "cell_type": "markdown",
   "metadata": {},
   "source": [
    "here we rapidly checked the values of the temperature as a histogram with 25 bins and saved the variables of the histogram and the bin edges to two variables.\n",
    "\n",
    "This could have been done also separately with the according [numpy histogram function](https://numpy.org/doc/stable/reference/generated/numpy.histogram.html#numpy.histogram).\n",
    "\n",
    "__note__: that the output of the `hist()` function are the values of the histogram and the binedges, meaning an array of the length $binnr + 1$. We thus have to compute the bincenters with the width of the bins.\n",
    "\n",
    "Now we can create a function for the Gaussian distribution (refer e.g. to the [wikipedia page](https://en.wikipedia.org/wiki/Gaussian_function))"
   ]
  },
  {
   "cell_type": "code",
   "execution_count": 306,
   "metadata": {},
   "outputs": [],
   "source": [
    "def gaussian(x, mu, sigma):\n",
    "    return (1/(sigma*np.sqrt(2*np.pi))*np.exp(- ((x - mu)**2)/(2*sigma**2) ))"
   ]
  },
  {
   "cell_type": "code",
   "execution_count": 307,
   "metadata": {},
   "outputs": [
    {
     "name": "stdout",
     "output_type": "stream",
     "text": [
      "optimal expected value mu: 19.45990838629157\n",
      "optimal standar deviation sigma: 5.259990630777888\n"
     ]
    }
   ],
   "source": [
    "# fit the gaussian to the values of the histogram\n",
    "opt_vals, cov_coeff = curve_fit(gaussian, bincenter, vals)\n",
    "\n",
    "print(\"optimal expected value mu: {}\\noptimal standar deviation sigma: {}\".format(*opt_vals))"
   ]
  },
  {
   "cell_type": "code",
   "execution_count": 314,
   "metadata": {},
   "outputs": [
    {
     "name": "stdout",
     "output_type": "stream",
     "text": [
      "25.214\n"
     ]
    },
    {
     "data": {
      "image/png": "[encoded data removed]",
      "text/plain": [
       "<Figure size 648x432 with 1 Axes>"
      ]
     },
     "metadata": {
      "needs_background": "light"
     },
     "output_type": "display_data"
    }
   ],
   "source": [
    "# plot everything\n",
    "\n",
    "mu, sigma = opt_vals[0], opt_vals[1]\n",
    "gauss_fit = gaussian(bincenter, *opt_vals)\n",
    "max_gauss = max(gauss_fit)\n",
    "\n",
    "fig, ax = plt.subplots(1,1, figsize=(9,6), tight_layout=True)\n",
    "\n",
    "ax.hist(temps, bins=binnr, density=True, label=\"temperature\")\n",
    "ax.plot(bincenter, vals, \"ro\")\n",
    "\n",
    "label_text=\"$\\mu$={:.3}, $\\sigma^2$={:.3}\".format(*opt_vals)\n",
    "ax.plot(bincenter, gauss_fit, 'r-', label=label_text)\n",
    "\n",
    "ax.set_xlabel(\"Temperature [$^oC$]\")\n",
    "ax.legend()\n",
    "\n",
    "# # find value for half max gauss\n",
    "half_max_idx = np.abs(gauss_fit - max_gauss/2).argmin()\n",
    "print(bincenter[half_max_idx])\n",
    "starting_bin = bincenter[half_max_idx]\n",
    "if starting_bin < mu:\n",
    "    xmin, xmax = starting_bin, starting_bin + 2*sigma\n",
    "else:\n",
    "    xmax, xmin = starting_bin, starting_bin - 2*sigma\n",
    "\n",
    "# # plot mu and sigma\n",
    "ax.vlines(x=mu, color=\"grey\", linestyle=\"--\", ymin=0, ymax=max_gauss)\n",
    "ax.hlines(y=max_gauss/2, xmin=xmin, xmax=xmax, color=\"grey\", linestyle=\"--\")\n",
    "\n",
    "fig.show()"
   ]
  },
  {
   "cell_type": "code",
   "execution_count": null,
   "metadata": {},
   "outputs": [],
   "source": [
    "# write this code into spyder"
   ]
  },
  {
   "cell_type": "markdown",
   "metadata": {},
   "source": [
    "## Systematic data Analysis\n",
    "\n",
    "### Steps on Data\n",
    "Some things are often shared among several data sets this is why it is useful to consider almost always and to add them to a function (or even to an existing class) with this function we can collect information about any given variable and print it out as well as do some basic visualisation of histograms and cumulative distribution functions\n",
    "\n",
    "### Empirical Mean\n",
    "\n",
    "$$\\bar{x} = \\frac{1}{N}\\sum_i{x_i}$$\n",
    "\n",
    "$$\\bar{y} = \\frac{1}{N}\\sum_i{y_i}$$\n",
    "\n",
    "### Empirical Variance\n",
    "$$ \\mathrm{Var} = \\frac{1}{n-1} \\sum_{i=1}^{n}{ \\left( y_i - \\bar{y} \\right)^2  } $$\n",
    "\n",
    "### Empirical Standard Deviation\n",
    "$$ S = \\sqrt{\\mathrm{Var}}$$\n",
    "\n",
    "Notice that standard deviation is expressed in the same units as $y_i$."
   ]
  },
  {
   "cell_type": "code",
   "execution_count": null,
   "metadata": {},
   "outputs": [],
   "source": [
    "def scanVariable(var, varname = 'variable'):        \n",
    "        #basic\n",
    "        print(\"\\nMin    = {}\".format(np.min(var)))\n",
    "        print(\"Max    = {}\".format(np.max(var)))\n",
    "        print(\"Mean   = {}\".format(np.mean(var)))\n",
    "        print(\"SD     = {}\".format(np.std(var)))\n",
    "        print(\"Var    = {}\".format(np.std(var)**2))\n",
    "        print(\"Median = {}\".format(np.median(var)))\n",
    "        print(\"Length = {}\".format(len(var))) \n",
    "        \n",
    "        #visualize        \n",
    "        nbins = int(np.sqrt(len(var)))    \n",
    "        fig1 = plt.figure(figsize = (10,5))         \n",
    "        col = 'cyan'\n",
    "        # create histogram\n",
    "        ax1 = fig1.add_subplot(131)\n",
    "        ax1.hist(var, bins=nbins, ec='black', color=col)\n",
    "        \n",
    "        ax1.set_xlabel(varname)\n",
    "        ax1.set_ylabel('count')\n",
    "        ax1.set_title(\"Original\")        \n",
    "        \n",
    "        # normalised histogram\n",
    "        ax1 = fig1.add_subplot(132)\n",
    "        ax1.hist(var/np.std(var), bins=nbins, ec='black', color=col,density=True)\n",
    "        ax1.set_xlabel(varname)\n",
    "        ax1.set_title(\"Normalized/Density\")  \n",
    "        \n",
    "        ax1 = fig1.add_subplot(133)\n",
    "        ax1.hist(var/np.std(var), bins=nbins, ec='black', color=col,density=True,cumulative=True)\n",
    "        ax1.set_xlabel(varname)\n",
    "        ax1.set_title(\"Cumulative\")"
   ]
  },
  {
   "cell_type": "code",
   "execution_count": null,
   "metadata": {},
   "outputs": [],
   "source": [
    "# example\n",
    "scanVariable(fires[\"wind\"])"
   ]
  },
  {
   "cell_type": "markdown",
   "metadata": {},
   "source": [
    "### Terminology\n",
    "\n",
    "- \"Predictor\" or \"independent\" variable or \"stimulus\" (in our case $x$).\n",
    "- \"Dependent\" or \"response\" variable (in our case $y$). \n",
    "- \"Positive\" and \"negative\" relationship."
   ]
  },
  {
   "cell_type": "markdown",
   "metadata": {},
   "source": [
    "Lets get back to the forest fires and look at how other collected data, e.g. the relative humidity RH, compares to the temperature"
   ]
  },
  {
   "cell_type": "code",
   "execution_count": null,
   "metadata": {},
   "outputs": [],
   "source": [
    "temps = fires[\"temp\"]\n",
    "RH = fires[\"RH\"]\n",
    "\n",
    "fast_plot(temps, RH, xlabel=\"temperatur [C]\", ylabel=\"relative humidity [\\%]\")\n"
   ]
  },
  {
   "cell_type": "markdown",
   "metadata": {},
   "source": [
    "the idea here is to see if the is a relationship in the depicted data or not"
   ]
  },
  {
   "cell_type": "code",
   "execution_count": null,
   "metadata": {},
   "outputs": [],
   "source": [
    "scanVariable(temps, varname=\"T\")\n",
    "scanVariable(RH, varname=\"RH\")"
   ]
  },
  {
   "cell_type": "markdown",
   "metadata": {},
   "source": [
    "### Centering\n",
    "\n",
    "$x_i = x_i-\\bar{x}$\n",
    "\n",
    "$y_i = y_i-\\bar{y}$"
   ]
  },
  {
   "cell_type": "code",
   "execution_count": null,
   "metadata": {},
   "outputs": [],
   "source": [
    "# compute the mean values\n",
    "temps_mean = sum(temps)/len(temps)\n",
    "RH_mean = sum(RH)/len(RH)\n",
    "\n",
    "# center the data\n",
    "temps = temps - temps_mean\n",
    "RH = RH - RH_mean\n",
    "\n",
    "# recompute the mean values\n",
    "temps_mean = sum(temps)/len(temps)\n",
    "RH_mean = sum(RH)/len(RH)\n",
    "\n",
    "fast_plot(temps,RH)"
   ]
  },
  {
   "cell_type": "markdown",
   "metadata": {},
   "source": [
    "### Normalization/rescaling\n",
    "\n",
    "This is done to have SD = 1, and mean = 0.\n",
    "\n",
    "$x_i = \\frac{x_i}{SD}$\n",
    "\n",
    "$y_i = \\frac{y_i}{SD}$"
   ]
  },
  {
   "cell_type": "code",
   "execution_count": null,
   "metadata": {},
   "outputs": [],
   "source": [
    "# normalise\n",
    "temps=temps/np.std(temps)\n",
    "RH=RH/np.std(RH)\n",
    "\n",
    "# show normalised values\n",
    "fast_plot(temps,RH)\n",
    "\n",
    "print(np.std(temps))\n",
    "print(np.std(RH))"
   ]
  },
  {
   "cell_type": "markdown",
   "metadata": {},
   "source": [
    "## Linear Regression with Least Squares\n",
    "\n",
    "---\n",
    "\n",
    "In the Least-Squares we \"Compute least-squares solution to equation Ax = b.\"\n",
    "Here we are using the least-square method from [scipy](https://docs.scipy.org/doc/scipy/reference/generated/scipy.linalg.lstsq.html).\n",
    "\n",
    "To do so we take the a Matrix `M` that is composed by the constant and linear entries of the predictor variable (i.e. the independent variable). Since we first assume a linear relationship `y = a + b*x`. In the following A=M is the coefficient matrix"
   ]
  },
  {
   "cell_type": "code",
   "execution_count": null,
   "metadata": {},
   "outputs": [],
   "source": [
    "temps = fires[\"temp\"]\n",
    "RH = fires[\"RH\"]\n",
    "\n",
    "# matrix of the temperatures in 0-th and 1st order.\n",
    "M = temps[:, np.newaxis]**[0, 1]\n",
    "print(M)"
   ]
  },
  {
   "cell_type": "markdown",
   "metadata": {},
   "source": [
    "now we are ready to apply the least-square method to our relative humidity RH. The main result from the optimisation is stored in the variable `coeff` that is composed by the optimised coefficients $a$ and $b$ of $y = a + b\\cdot x$.\n",
    "\n",
    "So the first entry of `coeff` will be the y-axis intersection and the second one will be the slope"
   ]
  },
  {
   "cell_type": "code",
   "execution_count": null,
   "metadata": {},
   "outputs": [],
   "source": [
    "# import the least-square method\n",
    "from scipy.linalg import lstsq\n",
    "\n",
    "# apply the least-square\n",
    "coeff, res, rnk, s = lstsq(M, RH)\n",
    "\n",
    "# print some information\n",
    "print(\"linear relationship\\ny-axis intersection: {}\\nand slope: {}\".format(*coeff))\n",
    "\n",
    "# compute the mean values\n",
    "temps_mean = sum(temps)/len(temps)\n",
    "RH_mean = sum(RH)/len(RH)\n",
    "\n",
    "# create variables for plotting the linear regression\n",
    "xx = np.linspace(0, max(temps), 100)\n",
    "yy = coeff[0] + coeff[1]*xx**1\n",
    "\n",
    "fig, ax = plt.subplots(1,1, figsize=(9,6))\n",
    "\n",
    "ax.plot(temps,RH, \".\", label=\"dataset\")\n",
    "ax.plot(xx,yy, label='linear regression')\n",
    "ax.plot(temps_mean, RH_mean, \"ro\", label=\"mean\")\n",
    "\n",
    "\n",
    "# plot cosmetics\n",
    "ax.legend(fontsize=18)\n",
    "ax.set_xlabel(\"T [C]\")\n",
    "ax.set_ylabel(\"relative humidity [\\%]\")\n",
    "\n",
    "\n",
    "fig.show()"
   ]
  },
  {
   "cell_type": "markdown",
   "metadata": {},
   "source": [
    "## Assignments\n",
    "---\n",
    "* Create an exponentially decaying relationship with some noise and fit it using first a linear slope function and then an exponential function. Compare and comment on the covariance/standar deviation.\n",
    "* Create a function for automatising the Gaussian fit and eventually add it to a class. Test it on different variables of the forest fires data\n",
    "* Use the least-square method of scipy to test the relative humidity vs temperature plot for a second order relationship. Find a different pair of dependent variables of the set to analyse and do a linear regression on them. Can you find any interesting relations when looking at the months?\n",
    "* understand how the [LinearRegression](https://scikit-learn.org/stable/modules/generated/sklearn.linear_model.LinearRegression.html) method of sklearn works and try to apply it to the \"temperature-relative humidity\" data"
   ]
  }
 ],
 "metadata": {
  "kernelspec": {
   "display_name": "Python 3",
   "language": "python",
   "name": "python3"
  },
  "language_info": {
   "codemirror_mode": {
    "name": "ipython",
    "version": 3
   },
   "file_extension": ".py",
   "mimetype": "text/x-python",
   "name": "python",
   "nbconvert_exporter": "python",
   "pygments_lexer": "ipython3",
   "version": "3.8.3"
  }
 },
 "nbformat": 4,
 "nbformat_minor": 4
}
